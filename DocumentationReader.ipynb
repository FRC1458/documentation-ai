{
  "nbformat": 4,
  "nbformat_minor": 0,
  "metadata": {
    "colab": {
      "provenance": [],
      "authorship_tag": "ABX9TyMD/lmrqv2U1FrtulJu65Nq",
      "include_colab_link": true
    },
    "kernelspec": {
      "name": "python3",
      "display_name": "Python 3"
    },
    "language_info": {
      "name": "python"
    }
  },
  "cells": [
    {
      "cell_type": "markdown",
      "metadata": {
        "id": "view-in-github",
        "colab_type": "text"
      },
      "source": [
        "<a href=\"https://colab.research.google.com/github/FRC1458/documentation-ai/blob/main/DocumentationReader.ipynb\" target=\"_parent\"><img src=\"https://colab.research.google.com/assets/colab-badge.svg\" alt=\"Open In Colab\"/></a>"
      ]
    },
    {
      "cell_type": "code",
      "execution_count": null,
      "metadata": {
        "id": "4wmzNsMbEqE6"
      },
      "outputs": [],
      "source": [
        "!pip install langchain\n",
        "!pip install faiss-cpu\n",
        "!pip install openai\n",
        "!pip install unstructured\n",
        "!pip install faiss\n",
        "!pip install tiktoken"
      ]
    },
    {
      "cell_type": "code",
      "source": [
        "from langchain.document_loaders import UnstructuredURLLoader\n",
        "from langchain.text_splitter import CharacterTextSplitter\n",
        "import pickle\n",
        "import faiss\n",
        "from langchain.vectorstores import FAISS\n",
        "from langchain.embeddings import OpenAIEmbeddings\n",
        "\n",
        "import os\n",
        "os.environ[\"OPENAI_API_KEY\"] ="
      ],
      "metadata": {
        "id": "DWJYd-_xEwve"
      },
      "execution_count": null,
      "outputs": []
    },
    {
      "cell_type": "markdown",
      "source": [
        "Input sources in the urls array"
      ],
      "metadata": {
        "id": "u96Nw5EWFEkU"
      }
    },
    {
      "cell_type": "code",
      "source": [
        "urls = []\n",
        "urls"
      ],
      "metadata": {
        "id": "sUeGEimbFCnH"
      },
      "execution_count": null,
      "outputs": []
    },
    {
      "cell_type": "code",
      "source": [
        "loaders = UnstructuredURLLoader(urls=urls)\n",
        "text_splitter = CharacterTextSplitter(separator='\\n',\n",
        "                                      chunk_size=1000,\n",
        "                                      chunk_overlap=200)\n",
        "embeddings = OpenAIEmbeddings()\n",
        "data = loaders.load()"
      ],
      "metadata": {
        "id": "ffBUqb6MFM7e"
      },
      "execution_count": null,
      "outputs": []
    },
    {
      "cell_type": "markdown",
      "source": [
        "Next block just for testing"
      ],
      "metadata": {
        "id": "9hWPP84ZFm6s"
      }
    },
    {
      "cell_type": "code",
      "source": [
        "data"
      ],
      "metadata": {
        "id": "_yOEFGqxFjhg"
      },
      "execution_count": null,
      "outputs": []
    },
    {
      "cell_type": "code",
      "source": [
        "docs = text_splitter.split_documents(data)\n",
        "VectorStore_OpenAI = FAISS.from_documents(docs, embeddings)"
      ],
      "metadata": {
        "id": "oRuzivF-FmEP"
      },
      "execution_count": null,
      "outputs": []
    },
    {
      "cell_type": "code",
      "source": [
        "with open(\"faiss_store_openai.pkl\", \"wb\") as f:\n",
        "  pickle.dump(VectorStore_OpenAI, f)"
      ],
      "metadata": {
        "id": "BLkY2eMWGORP"
      },
      "execution_count": null,
      "outputs": []
    },
    {
      "cell_type": "code",
      "source": [
        "with open(\"faiss_store_openai.pkl\", \"rb\") as f:\n",
        "  VectorStore = pickle.load(f)"
      ],
      "metadata": {
        "id": "PUJRzeKKGQdz"
      },
      "execution_count": null,
      "outputs": []
    },
    {
      "cell_type": "markdown",
      "source": [
        "Next block just for testing"
      ],
      "metadata": {
        "id": "_2H7H3mXFrz5"
      }
    },
    {
      "cell_type": "code",
      "source": [
        "len(docs)"
      ],
      "metadata": {
        "id": "HVdazvwgFpF4"
      },
      "execution_count": null,
      "outputs": []
    },
    {
      "cell_type": "code",
      "source": [
        "llm=\n",
        "chain = RetrievalQAWithSourcesChain.from_llm(llm=llm, retriever=VectorStore.as_retriever())\n",
        "question = input(\"What do you want to ask? \")\n",
        "chain({\"question\": question}, return_only_outputs=True)"
      ],
      "metadata": {
        "id": "dbeBQzfmGXqF"
      },
      "execution_count": null,
      "outputs": []
    }
  ]
}